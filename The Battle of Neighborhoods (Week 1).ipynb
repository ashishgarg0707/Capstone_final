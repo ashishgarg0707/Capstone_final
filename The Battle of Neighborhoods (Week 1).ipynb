{
 "cells": [
  {
   "cell_type": "markdown",
   "metadata": {},
   "source": [
    "# The Battle of Neighborhoods (Week 1)"
   ]
  },
  {
   "cell_type": "markdown",
   "metadata": {},
   "source": [
    "### 1 - Introduction/Business Problem - Introduction\n",
    "\n",
    "Toronto, city, capital of the province of Ontario, southeastern Canada. It is the most populous city in Canada, a multicultural city, and the country’s financial and commercial centre, with a current population of 6,139,000 in 2019.\n",
    "\n",
    "Similarily it has huge amount of traveller across world. "
   ]
  },
  {
   "cell_type": "markdown",
   "metadata": {},
   "source": [
    "### 1.1 - Objective\n",
    "\n",
    "The aim of this report is to study and analyze the neighborhoods of Toronto city and group them into similar clusters for a travel company who can use the data to inform its traveller regarding popular areas like for shopping, food etc. This will help to save lot of time for traveller as they do not have to search alot for those things and also will help Travel company to gain publicity."
   ]
  },
  {
   "cell_type": "markdown",
   "metadata": {},
   "source": [
    "### 2- Data Collection\n",
    "\n",
    "The following data will be used for analysis purpose-\n",
    "1- Location data from http://cocl.us/Geospatial_data and Foresquare API\n",
    "2- Neighborhood data from https://en.wikipedia.org/wiki/List_of_postal_codes_of_Canada:_M \n"
   ]
  },
  {
   "cell_type": "markdown",
   "metadata": {},
   "source": [
    "# Methodology"
   ]
  },
  {
   "cell_type": "markdown",
   "metadata": {},
   "source": [
    "The probelm will be solved by utilizing libraries such as pandas, numpy, folium map and techinque will be used K-means cluster.\n",
    "\n",
    "The data frame will be created by using pandas data frame and using manipulation techiniqes. Further data will be collected by \n",
    "using Foresquare API to collect nearby areas and grouping them in cluster. Analysis will be done on the basis of K-mean clusters which will identify popular areas across neighborhood which can further be used by Travel company to further educate their customers/ Travellers.\n"
   ]
  },
  {
   "cell_type": "code",
   "execution_count": null,
   "metadata": {},
   "outputs": [],
   "source": []
  }
 ],
 "metadata": {
  "kernelspec": {
   "display_name": "Python 3",
   "language": "python",
   "name": "python3"
  },
  "language_info": {
   "codemirror_mode": {
    "name": "ipython",
    "version": 3
   },
   "file_extension": ".py",
   "mimetype": "text/x-python",
   "name": "python",
   "nbconvert_exporter": "python",
   "pygments_lexer": "ipython3",
   "version": "3.7.6"
  }
 },
 "nbformat": 4,
 "nbformat_minor": 4
}
